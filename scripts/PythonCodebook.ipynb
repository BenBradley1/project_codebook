{
 "cells": [
  {
   "cell_type": "markdown",
   "metadata": {},
   "source": [
    "# Guide to Python\n",
    "by Ben Bradley, 29/03/2025"
   ]
  },
  {
   "cell_type": "markdown",
   "metadata": {},
   "source": [
    "## Introduction"
   ]
  },
  {
   "cell_type": "markdown",
   "metadata": {},
   "source": [
    "_This guide was created for the TOMCAT research group away day 2025. It is intended as a guide to modern programming for researchers and students within the School of Earth and Environment, primarily using Python and VS Code._\n",
    "\n",
    "Throughout, I draw upon the expertise shared in the following sources:\n",
    "- [The BAG Wiki](https://bjsilver.github.io/bag_wiki/), particularly the [Guide to VS Code](https://bjsilver.github.io/bag_wiki/docs/remote_access/vscode.html)\n",
    "- [The Good Research Code Handbook](https://goodresearch.dev/index.html)"
   ]
  },
  {
   "cell_type": "markdown",
   "metadata": {},
   "source": [
    "### Contents\n",
    "- ❓ What can I do with VS Code and Python?\n",
    "- 🏗️ How do I set this up?\n",
    "- 🧠 Thinking \"pythonically\"\n",
    "- 💡 Tips and tricks"
   ]
  },
  {
   "cell_type": "markdown",
   "metadata": {},
   "source": [
    "## ❓ VS Code and Python"
   ]
  },
  {
   "cell_type": "markdown",
   "metadata": {},
   "source": [
    "Visual Studio Code (VS Code) is an open source IDE. What can it do that other IDEs can't?\n",
    "- Multi-language support\n",
    "- Robust terminal interfaces **AND** intuitive feature-rich graphical interfaces\n",
    "- Seamless version control with Git and GitHub\n",
    "- Jupyter Notebooks!\n",
    "- Easily view netcdfs, tables, plots, file structures\n",
    "\n",
    "For more information visit the [BAG wiki guide to VS Code](https://bjsilver.github.io/bag_wiki/docs/remote_access/vscode.html)"
   ]
  },
  {
   "cell_type": "markdown",
   "metadata": {},
   "source": [
    "<img src=\"./../results/VSCode_window.png\" width=\"1000\">"
   ]
  },
  {
   "cell_type": "markdown",
   "metadata": {},
   "source": [
    "<img src=\"./../results/VSCode_displays.png\" width=\"1000\">"
   ]
  },
  {
   "cell_type": "markdown",
   "metadata": {},
   "source": [
    "## 🏗️ Setting Up"
   ]
  },
  {
   "cell_type": "markdown",
   "metadata": {},
   "source": [
    "### 1) University VPN"
   ]
  },
  {
   "cell_type": "markdown",
   "metadata": {},
   "source": [
    "<ol type=\"a\">\n",
    "  <li>At the time of writing there are two types of university VPN: PulseSecure and Ivanti Secure Access. One of these are needed to connect to university systems remotely.</li>\n",
    "\n",
    "  <ol type=\"i\">\n",
    "    <li>Already installed</li>\n",
    "      <p>If you have a university computer, the VPN may be pre-installed. For windows, check by going to the start menu and typing “Pulse Secure” or \"Ivanti Secure Access\".</p>\n",
    "    <li>Uni laptop but not pre-installed</li>\n",
    "      <p>If PulseSecure isn’t already available, it can be installed via Company Portal. Search the start menu for “Company Portal”. PulseSecure should be listed under the 'Apps' section.</p>\n",
    "    <li>Personal computer</li>\n",
    "      <p>Go to the <a href=\"https://it.leeds.ac.uk/it?id=kb_article_view&table=kb_knowledge&sys_kb_id=1682f199fbd426d08d23ff40aeefdc14&searchTerm=vpn&spa=1\" target=\"_blank\">University of Leeds VPN guide</a>. Under attachments to the right of the screen there is a list of VPN versions you can download. Select the appropriate download for your operating system and follow the setup wizard instructions.</p><img src=\"./../results/PulseSecure_download.png\" width=\"500\">\n",
    "  </ol>\n",
    "\n",
    "  <li>Once you have the VPN installed, follow the instructions on the <a href=\"https://it.leeds.ac.uk/it?id=kb_article_view&table=kb_knowledge&sys_kb_id=1682f199fbd426d08d23ff40aeefdc14&searchTerm=vpn&spa=1\" target=\"_blank\">VPN guide</a>, which detail how to connect.</li>\n",
    "</ol>\n",
    "\n",
    "*(n.b. an alternative method to this is to use the rash jump server: I have found this way requires more passwords and a duo sign in, but university IT plans to switch to this method at some point. A guide for using rash can be found here: [BAG guide to rash](https://bjsilver.github.io/bag_wiki/docs/remote_access/SSH_configs.html))*"
   ]
  },
  {
   "cell_type": "markdown",
   "metadata": {},
   "source": [
    "### 2) VS Code"
   ]
  },
  {
   "cell_type": "markdown",
   "metadata": {},
   "source": [
    "<ol type=\"a\">\n",
    "  <li>Install VS Code</li>\n",
    "    <p>Download and install <a href=\"https://code.visualstudio.com/\" target=\"_blank\">VS Code</a>. If you have a university laptop, it may be easier to install via <a href=\"https://it.leeds.ac.uk/it?id=kb_article&sysparm_article=KB0014827\" target=\"_blank\">AppsAnywhere</a>, though I haven't tested this.</p>\n",
    "  <li>Extensions</li>\n",
    "    <p>Open VS Code and click the extensions tab on the left side of the screen. Search for and install the <em>Python</em>, <em>Jupyter</em>, and <em>Remote - SSH</em> extensions. These are needed to use Jupyter notebooks and access remote machines. </p><img src=\"./../results/VSCode_extensions.png\" width=\"500\">\n",
    "</ol>"
   ]
  },
  {
   "cell_type": "markdown",
   "metadata": {},
   "source": [
    "### 3) config file"
   ]
  },
  {
   "cell_type": "markdown",
   "metadata": {},
   "source": [
    "### 4) ssh into remote machine"
   ]
  },
  {
   "cell_type": "markdown",
   "metadata": {},
   "source": []
  }
 ],
 "metadata": {
  "language_info": {
   "name": "python"
  }
 },
 "nbformat": 4,
 "nbformat_minor": 2
}
