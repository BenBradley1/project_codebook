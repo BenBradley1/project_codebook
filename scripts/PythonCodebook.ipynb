{
 "cells": [
  {
   "cell_type": "markdown",
   "metadata": {},
   "source": [
    "# Guide to Python\n",
    "by Ben Bradley, 29/03/2025\n",
    "\n",
    "_This guide was created for the TOMCAT research group away day 2025. It is intended as a guide to modern programming for researchers and students within the School of Earth and Environment, primarily using Python and VSCode._"
   ]
  },
  {
   "cell_type": "markdown",
   "metadata": {},
   "source": [
    "## Contents"
   ]
  },
  {
   "cell_type": "markdown",
   "metadata": {},
   "source": [
    "- ❓ What can I do with VSCode and Python?\n",
    "- 👀 How do I set this up?\n",
    "- 🧠 Thinking \"pythonically\"\n",
    "- 💡 Tips and tricks"
   ]
  },
  {
   "cell_type": "markdown",
   "metadata": {},
   "source": [
    "## VSCode and Python"
   ]
  },
  {
   "cell_type": "markdown",
   "metadata": {},
   "source": []
  }
 ],
 "metadata": {
  "language_info": {
   "name": "python"
  }
 },
 "nbformat": 4,
 "nbformat_minor": 2
}
