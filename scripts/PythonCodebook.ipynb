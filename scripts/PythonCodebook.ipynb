{
 "cells": [
  {
   "cell_type": "markdown",
   "metadata": {},
   "source": [
    "# Guide to Python\n",
    "by Ben Bradley, 29/03/2025"
   ]
  },
  {
   "cell_type": "markdown",
   "metadata": {},
   "source": [
    "## 🏁 Introduction"
   ]
  },
  {
   "cell_type": "markdown",
   "metadata": {},
   "source": [
    "_This guide was created for the TOMCAT research group away day 2025. It is intended as a guide to modern programming for researchers and students within the School of Earth and Environment, primarily using Python and VS Code._\n",
    "\n",
    "Throughout, I draw upon the expertise shared in the following sources:\n",
    "- [The BAG Wiki](https://bjsilver.github.io/bag_wiki/), particularly the [Guide to VS Code](https://bjsilver.github.io/bag_wiki/docs/remote_access/vscode.html)\n",
    "- [The Good Research Code Handbook](https://goodresearch.dev/index.html)"
   ]
  },
  {
   "cell_type": "markdown",
   "metadata": {},
   "source": [
    "### Contents\n",
    "- ❓ What is VS Code and Python?\n",
    "- 🏗️ How do I set this up?\n",
    "- 🧠 An IDL code conversion example\n",
    "- 💡 Tips and tricks"
   ]
  },
  {
   "cell_type": "markdown",
   "metadata": {},
   "source": [
    "## ❓ VS Code and Python"
   ]
  },
  {
   "cell_type": "markdown",
   "metadata": {},
   "source": [
    "### Python"
   ]
  },
  {
   "cell_type": "markdown",
   "metadata": {},
   "source": [
    "<figure>\n",
    "    <img src=\"./../results/python_antigravity.png\" width=\"500\" alt=\"python import antigravity comic by xkcd\">\n",
    "    <figcaption>The benefits of Python. From <a href=\"https://xkcd.com/353\" target=\"_blank\">xkcd.com</a> by Randall Munroe </figcaption>\n",
    "</figure>"
   ]
  },
  {
   "cell_type": "markdown",
   "metadata": {},
   "source": [
    "Python is one of the most successful programming languages ever, and for a reason! It values *readability* above all else, making it very user-friendly. It is open-source and primarily relies on importing libraries others have created to solve problems efficiently. This means you can lean on the work of others, who have likely solved the problem far more efficiently and cleanly than you could!\n",
    "\n",
    "Many people start using Python via the Python-provided Integrated Development Environment (IDE) or directly through the terminal. These are excellent places to get to grips with Python when first learning the language, as they allow you to focus on the basic coding you'll encounter in tutorials. Complications arrise when you want to do more than the basics though."
   ]
  },
  {
   "cell_type": "markdown",
   "metadata": {},
   "source": [
    "<figure>\n",
    "    <img src=\"./../results/Python_IDE.png\" width=\"500\" alt=\"Python IDE\">\n",
    "    <figcaption>Bog standard Python IDE, perfect as a learning sandbox but not much else</figcaption>\n",
    "</figure>"
   ]
  },
  {
   "cell_type": "markdown",
   "metadata": {},
   "source": [
    "### Environment Managers"
   ]
  },
  {
   "cell_type": "markdown",
   "metadata": {},
   "source": [
    "Python relies on libraries for most insteresting things anyone might actually want to do.\n",
    "\n",
    "- discover a cool thing you want to try out in Python\n",
    "- find you need a specific library\n",
    "- `import library` doesn't work!\n",
    "- google the error message\n",
    "- find that you need to install the library using a command called `pip`\n",
    "- your computer doesn't recognise the command `\"pip\"`\n",
    "- other people say to use `conda install` but this doesn't work either\n",
    "- some random guy from StackOverflow says everything will work if you use `pip3`\n",
    "- decide to do your cool thing in IDL instead"
   ]
  },
  {
   "cell_type": "markdown",
   "metadata": {},
   "source": [
    "You need a **package manager**! Setting this up means you can easily and dependably install any libraries you may need.\n",
    "\n",
    "Once you start installing lots of libraries, you'll eventually find that some conflict with others. If you get unlucky, you'll install a library and find that your code no longer runs! To avoid this, you need a **virtual environent manager**: something that resolves package dependencies and installs libraries in virtual environments that can easily be deleted and refreshed if something goes wrong.\n",
    "\n",
    "Some popular examples of joint package and virtual environment managers are _Anaconda_, _Miniconda_, and _Miniforge_. Without one of these, your python environment can become a messy hellscape :("
   ]
  },
  {
   "cell_type": "markdown",
   "metadata": {},
   "source": [
    "<figure>\n",
    "    <img src=\"./../results/python_environment.png\" width=\"500\" alt=\"python environments comic by xkcd\">\n",
    "    <figcaption>Python environments can be a confusing mess. From <a href=\"https://xkcd.com/1987\" target=\"_blank\">xkcd.com</a> by Randall Munroe </figcaption>\n",
    "</figure>"
   ]
  },
  {
   "cell_type": "markdown",
   "metadata": {},
   "source": [
    "### VS Code"
   ]
  },
  {
   "cell_type": "markdown",
   "metadata": {},
   "source": [
    "But if you're doing lots of coding, you don't just want your code to *run*. Is it clear, efficient, well-documented, backed-up, shareable? This is where more complete IDEs like VS Code come in!\n",
    "\n",
    "Visual Studio Code (VS Code) offers many attractive features, such as:\n",
    "- Multi-language support\n",
    "- variable auto-completion (no more short but unintelligable variable names)\n",
    "- Robust terminal interfaces **AND** intuitive feature-rich graphical interfaces\n",
    "- Seamless version control with Git and GitHub\n",
    "- Jupyter Notebooks!\n",
    "- Easily view netcdfs, tables, plots, file structures\n",
    "- auto-generated documentation, syntax highlighting, AI coding suggestions, and more!\n",
    "\n",
    "For more information visit the [BAG wiki guide to VS Code](https://bjsilver.github.io/bag_wiki/docs/remote_access/vscode.html)"
   ]
  },
  {
   "cell_type": "markdown",
   "metadata": {},
   "source": [
    "<img src=\"./../results/VSCode_window.png\" width=\"1000\">"
   ]
  },
  {
   "cell_type": "markdown",
   "metadata": {},
   "source": [
    "<img src=\"./../results/VSCode_displays.png\" width=\"1000\">"
   ]
  },
  {
   "cell_type": "markdown",
   "metadata": {},
   "source": [
    "## 🏗️ Setting Up"
   ]
  },
  {
   "cell_type": "markdown",
   "metadata": {},
   "source": [
    "### 1) University VPN"
   ]
  },
  {
   "cell_type": "markdown",
   "metadata": {},
   "source": [
    "<ol type=\"a\">\n",
    "  <li>At the time of writing there are two types of university VPN: PulseSecure and Ivanti Secure Access. One of these is needed to connect to university systems remotely.</li>\n",
    "\n",
    "  <ol type=\"i\">\n",
    "    <li>Already installed</li>\n",
    "      <p>If you have a university computer, the VPN may be pre-installed. For windows, check by going to the start menu and typing “Pulse Secure” or \"Ivanti Secure Access\".</p>\n",
    "    <li>Uni laptop but not pre-installed</li>\n",
    "      <p>If PulseSecure isn’t already available, it can be installed via Company Portal. Search the start menu for “Company Portal”. PulseSecure should be listed under the 'Apps' section.</p>\n",
    "    <li>Personal computer</li>\n",
    "      <p>Go to the <a href=\"https://it.leeds.ac.uk/it?id=kb_article_view&table=kb_knowledge&sys_kb_id=1682f199fbd426d08d23ff40aeefdc14&searchTerm=vpn&spa=1\" target=\"_blank\">University of Leeds VPN guide</a>. Under attachments to the right of the screen there is a list of VPN versions you can download. Select the appropriate download for your operating system and follow the setup wizard instructions.</p><img src=\"./../results/PulseSecure_download.png\" width=\"500\">\n",
    "  </ol>\n",
    "\n",
    "  <li>Once you have the VPN installed, follow the instructions on the <a href=\"https://it.leeds.ac.uk/it?id=kb_article_view&table=kb_knowledge&sys_kb_id=1682f199fbd426d08d23ff40aeefdc14&searchTerm=vpn&spa=1\" target=\"_blank\">VPN guide</a>, which detail how to connect.</li>\n",
    "</ol>\n",
    "\n",
    "*(n.b. an alternative method to this is to use the rash jump server: I have found this way requires more passwords and a duo sign in, but university IT plans to switch to this method at some point. A guide for using rash can be found here: [BAG guide to rash](https://bjsilver.github.io/bag_wiki/docs/remote_access/SSH_configs.html))*"
   ]
  },
  {
   "cell_type": "markdown",
   "metadata": {},
   "source": [
    "### 2) Installing VS Code"
   ]
  },
  {
   "cell_type": "markdown",
   "metadata": {},
   "source": [
    "<ol type=\"a\">\n",
    "  <li>Install VS Code</li>\n",
    "    <p>Download and install <a href=\"https://code.visualstudio.com/\" target=\"_blank\">VS Code</a>. If you have a university laptop, it may be easier to install via <a href=\"https://it.leeds.ac.uk/it?id=kb_article&sysparm_article=KB0014827\" target=\"_blank\">AppsAnywhere</a>, though I haven't tested this.</p>\n",
    "  <li>Extensions</li>\n",
    "    <p>Open VS Code and click the extensions tab on the left side of the screen. Search for and install the <em>Python</em>, <em>Jupyter</em>, and <em>Remote - SSH</em> extensions. These are needed to use Jupyter notebooks and access remote machines. </p><img src=\"./../results/VSCode_extensions.png\" width=\"500\">\n",
    "</ol>"
   ]
  },
  {
   "cell_type": "markdown",
   "metadata": {},
   "source": [
    "### 3) config file"
   ]
  },
  {
   "cell_type": "markdown",
   "metadata": {},
   "source": [
    "To ssh easily into remote machines like foe-linux, it's easiest to create a config file containing the details of the ssh connections you want to make. This is a simple text file stored in the `.ssh` folder of your local machine. For linux users, the full path location will simply be `~/.ssh/config`. For windows users, this might be in a different location but you'll likely have a `.ssh` folder somewhere. For instance, the path to mine is `C:\\Users\\{my username}\\.ssh`. If you can find it or not, you'll be able to edit your config file in VS Code. Detailed instructions are on the [BAG Wiki](https://bjsilver.github.io/bag_wiki/docs/remote_access/vscode.html) if you get stuck.\n",
    "\n",
    "<ol type=\"a\">\n",
    "  <li>open the command pallete using <code>Ctrl</code>+<code>Shift</code>+<code>P</code>.</li>\n",
    "  <li>search for \"Remote - SSH\". An option to open a config file should appear.</li>\n",
    "  <img src=\"./../results/open_config.png\" width=\"500\">\n",
    "  <li>Specify connections to at least a foe-linux server and additionally to a machine on foe-linux (silloth, lytham, uptonpark, etc.) by copying the text below. </li>\n",
    "  <li>Save the config file, close VS Code and reopen.</li>\n",
    "</ol>"
   ]
  },
  {
   "cell_type": "code",
   "execution_count": null,
   "metadata": {
    "vscode": {
     "languageId": "shellscript"
    }
   },
   "outputs": [],
   "source": [
    "Host foe\n",
    "    HostName foe-linux-01.leeds.ac.uk   # change to a different foe-linux server if you want (e.g. foe-linux-02)\n",
    "    ForwardX11Trusted yes\n",
    "    ForwardAgent yes\n",
    "    User (username)                     # change to your username\n",
    "    TCPKeepAlive no\n",
    "    RequestTTY force\n",
    "\n",
    "Host (server_name)                      # change to the server you want to connect to\n",
    "    HostName (server_name).leeds.ac.uk  # change to the server you want to connect to\n",
    "    ForwardX11Trusted yes\n",
    "    User (username)                     # change to your username\n",
    "    ForwardAgent yes\n",
    "    TCPKeepAlive no\n",
    "    ProxyJump foe\n",
    "    RequestTTY force"
   ]
  },
  {
   "cell_type": "markdown",
   "metadata": {},
   "source": [
    "Notes:\n",
    "- **Remember** to change the username with your own and the remote machine with one you want to access!\n",
    "- See the BAG Guides to [SSH config files](https://bjsilver.github.io/bag_wiki/docs/remote_access/SSH_configs.html), [SSH Keys](https://bjsilver.github.io/bag_wiki/docs/remote_access/SSH_key_pairs.html), and [VS Code](https://bjsilver.github.io/bag_wiki/docs/remote_access/vscode.html) for more details.\n",
    "- If you find VS Code is timing out before connecting, you can change the \"Connect Timeout\" value in \"Remote - SSH: Settings\". [The BAG guide to VS Code](https://bjsilver.github.io/bag_wiki/docs/remote_access/vscode.html) tips section says setting this parameter to around 1080 should solve this (it did for me).\n",
    "- If you decide to use rash instead of the University VPN, you will need to add it as a host to your config file and ProxyJump through rash to connect to foe (see [BAG wiki article](https://bjsilver.github.io/bag_wiki/docs/remote_access/SSH_configs.html)).\n",
    "- You could try to combine [ssh keys](https://bjsilver.github.io/bag_wiki/docs/remote_access/SSH_key_pairs.html) with this sign in method to reduce the number of passwords required, but as of writing I have not attempted this."
   ]
  },
  {
   "cell_type": "markdown",
   "metadata": {},
   "source": [
    "### 4) ssh into remote machine"
   ]
  },
  {
   "cell_type": "markdown",
   "metadata": {},
   "source": [
    "<ol type=\"a\">\n",
    "  <li>ssh-ing</li>\n",
    "  <p>Go to the Remote Explorer side pannel on the left. The host names you added to your config file should be listed under SSH. Connect to one of them. Depending on the connection, you may be prompted to enter your password multiple times. You may also be required to select the operating system of the machine you are connecting to (linux) and dismiss some popups.</p><img src=\"./../results/ssh_tunnel.png\" width=\"500\">\n",
    "  <li>Connected!</li>\n",
    "  <p>You should land in the remote machine with a page that looks something like the one below. Note the box in the bottom left which should display the name of the host you are connected to.</p><img src=\"./../results/shh_welcome.png\" width=\"500\">\n",
    "  <li>Open project directory</li>\n",
    "  <p>From here you can open the directory for your coding project, allowing you to view and navigate all files in your project! Open the Explorer side pannel on the left and click Open Folder. You can then navigate to a project directory of your choice. You will need to inseret your password again as the connection reestablishes from the new directory. If you don't already have a folder, you can create one in the terminal (accessed via VS Code through View > Terminal or Terminal > New Terminal).</p><img src=\"./../results/open_folder.png\" width=\"500\">\n",
    "  <li>Closing the connection</li>\n",
    "  <p>Once you're finished, remember to save all documents and close the remote connection. To do this, click the SHH block in the bottom left, then choose \"Close Remote Connection\".</p><img src=\"./../results/close_connection.png\" width=\"500\">\n",
    "  <li>Shortcut for next time</li>\n",
    "  <p>The next time you connect, you can connect directly to the folder you opened on the remote machine, without having to open the project folder and re-input your passwords! In the image below, VS Code has remembered me connecting to my <code>project_wetland</code> folder via uptonpark, and I can click either one to connect directly to that folder.</p><img src=\"./../results/shortcut.png\" width=\"500\">\n",
    "</ol>"
   ]
  },
  {
   "cell_type": "markdown",
   "metadata": {},
   "source": [
    "### 5) Set up an environment manager"
   ]
  },
  {
   "cell_type": "markdown",
   "metadata": {},
   "source": [
    "Now you need to install an environment manager on the machine you want to code on. You use this to create virtual environemnts and install libraries. If you encounter dependancy problems within your environment, you can easily create a new one and install a new set of libraries there. You need to set this up whereever you do your coding, so ideally on a disk in foe-linux (**NOT** your home directory as you won't have enough space). It's good practice to craete a new environment for each project.\n",
    "\n",
    "There are a couple of options to choose from. I have found that Miniforge works best for linux machines, as it installs packages via conda-forge by default, making it faster and more reliable than other methods. However, I have had problems installing it locally on my university windows laptop as it gets flagged as malware by the IT security. Miniconda is a good alternative for local work on university windows computers.\n",
    "\n",
    "The following instructions are for installing Miniforge on a disk connected to foe-linux.\n",
    "\n",
    "<ol type=\"a\">\n",
    "  <li>Disk access</li>\n",
    "  <p>You will need to be allocated a username directory on one of the disks connected to foe-linux. Once you have this set up, use VS Code to SSH into foe-linux or a machine connected to foe, as described in previous section. Open a terminal (Terminal > New Terminal) and navigate to your username directory on one of the disks (where you want Miniforge installed).</p>\n",
    "  <li>Installing Miniforge</li>\n",
    "  <p>Head to the README document on the <a href=\"https://github.com/conda-forge/miniforge\" target=\"_blank\">Miniforge repository</a> (or the <a href=\"https://www.anaconda.com/docs/getting-started/miniconda/install#quickstart-install-instructions\" target=\"_blank\">Miniconda webpage</a> if you prefer to install this). For Miniforge, scroll to the \"Unix-like platforms (macOS, Linux, & WSL)\" header under \"Install\". Follow the install instructions for linux machines there. Make sure you paste the appropriate instructions to a terminal open in the disk directory you want Miniforge installed; you don't want to install it in your home directory on the machines as you'll run out of space there after not too long.</p>\n",
    "  <li>Create a test environment</li>\n",
    "  <p>Once you've completed the install instructions, be sure to activate the base environment by typing <code>conda activate</code> in the terminal.\n",
    "  \n",
    "  The terminal should now show (base) at the start of the command line. If you type <code>conda list</code>, a list of the basic packages installed in this environment will be listed.\n",
    "  \n",
    "  Now type <code> conda create -n test_env</code> to create a new environment call \"test_env\".\n",
    "  \n",
    "  You need to activate this new environment by typing <code>conda activate test_env</code>. You can deactivate an environment by typing <code>conda deactivate</code>.</p>\n",
    "  <li>Jupyter Notebook</li>\n",
    "  <p>In order to run python code in a VS Code environment, you need to install the \"notebook\" library. Make sure your test_env environment is actiavted, then type <code>conda install notebook</code>.\n",
    "  \n",
    "  Create a new jupyter notebook <code>test_notebook.ipynb</code> by clicking New File under the Explorer side panel.\n",
    "  \n",
    "  Create a code cell and add some simple code.\n",
    "  \n",
    "  In the top right of the screen, click the \"Select Kernel\" button. Under \"Python Environments\" you should find the test_env environment you created earlier. Once this is selected, run the code cell: it should run.</p>\n",
    "</ol>"
   ]
  },
  {
   "cell_type": "markdown",
   "metadata": {},
   "source": [
    "## 🧠 Thinking Pythonically"
   ]
  },
  {
   "cell_type": "markdown",
   "metadata": {},
   "source": [
    "IDL to python conversion examples by Matthew and Ben"
   ]
  },
  {
   "cell_type": "markdown",
   "metadata": {},
   "source": [
    "## 💡 Tips and Tricks"
   ]
  },
  {
   "cell_type": "markdown",
   "metadata": {},
   "source": [
    "### f-strings\n",
    "\n",
    "Format strings with ease and make them readable! Very powerful and very useful."
   ]
  },
  {
   "cell_type": "code",
   "execution_count": null,
   "metadata": {},
   "outputs": [
    {
     "name": "stdout",
     "output_type": "stream",
     "text": [
      "./data/O3_emissions_2021.nc\n",
      "./data/O3_emissions_2022.nc\n",
      "./data/CO2_emissions_2021.nc\n",
      "./data/CO2_emissions_2022.nc\n",
      "./data/CO_emissions_2021.nc\n",
      "./data/CO_emissions_2022.nc\n",
      "./data/CH4_emissions_2021.nc\n",
      "./data/CH4_emissions_2022.nc\n"
     ]
    }
   ],
   "source": [
    "# basic f strings\n",
    "\n",
    "species = [\"O3\", \"CO2\", \"CO\", \"CH4\"]\n",
    "years = [2021, 2022]\n",
    "\n",
    "for species_name in species:\n",
    "    for year in years:\n",
    "        # Create the filename using f-string formatting\n",
    "        filename = f\"./data/{species_name}_emissions_{year}.nc\"\n",
    "        print(filename)"
   ]
  },
  {
   "cell_type": "code",
   "execution_count": null,
   "metadata": {},
   "outputs": [
    {
     "name": "stdout",
     "output_type": "stream",
     "text": [
      "The area of the circle is 78.54 m²\n",
      "Also: diameter=10 m\n"
     ]
    }
   ],
   "source": [
    "# more advanced features\n",
    "\n",
    "import numpy as np\n",
    "\n",
    "pi = np.pi\n",
    "radius = 5 #m\n",
    "diameter = 2 * radius #m\n",
    "\n",
    "print(f\"The area of the circle is {pi * radius**2:.2f} m²\")\n",
    "print(f\"Also: {diameter=} m\")"
   ]
  },
  {
   "cell_type": "markdown",
   "metadata": {},
   "source": [
    "### List comprehensions\n",
    "\n",
    "These are alternatives to for loops that are generally faster and more compact. They can help you make you code clearer and faster!"
   ]
  },
  {
   "cell_type": "code",
   "execution_count": null,
   "metadata": {},
   "outputs": [
    {
     "name": "stdout",
     "output_type": "stream",
     "text": [
      "['./data/O3_emissions_2013.nc', './data/O3_emissions_2014.nc', './data/O3_emissions_2015.nc', './data/O3_emissions_2016.nc', './data/O3_emissions_2017.nc', './data/O3_emissions_2018.nc', './data/O3_emissions_2019.nc', './data/O3_emissions_2020.nc', './data/O3_emissions_2021.nc', './data/O3_emissions_2022.nc', './data/O3_emissions_2023.nc', './data/CO2_emissions_2013.nc', './data/CO2_emissions_2014.nc', './data/CO2_emissions_2015.nc', './data/CO2_emissions_2016.nc', './data/CO2_emissions_2017.nc', './data/CO2_emissions_2018.nc', './data/CO2_emissions_2019.nc', './data/CO2_emissions_2020.nc', './data/CO2_emissions_2021.nc', './data/CO2_emissions_2022.nc', './data/CO2_emissions_2023.nc', './data/CO_emissions_2013.nc', './data/CO_emissions_2014.nc', './data/CO_emissions_2015.nc', './data/CO_emissions_2016.nc', './data/CO_emissions_2017.nc', './data/CO_emissions_2018.nc', './data/CO_emissions_2019.nc', './data/CO_emissions_2020.nc', './data/CO_emissions_2021.nc', './data/CO_emissions_2022.nc', './data/CO_emissions_2023.nc', './data/CH4_emissions_2013.nc', './data/CH4_emissions_2014.nc', './data/CH4_emissions_2015.nc', './data/CH4_emissions_2016.nc', './data/CH4_emissions_2017.nc', './data/CH4_emissions_2018.nc', './data/CH4_emissions_2019.nc', './data/CH4_emissions_2020.nc', './data/CH4_emissions_2021.nc', './data/CH4_emissions_2022.nc', './data/CH4_emissions_2023.nc']\n"
     ]
    }
   ],
   "source": [
    "# Basic example\n",
    "\n",
    "years = [year for year in range(2013, 2024)]\n",
    "species = [\"O3\", \"CO2\", \"CO\", \"CH4\"]\n",
    "files = [f\"./data/{species_name}_emissions_{year}.nc\" for species_name in species for year in years]\n",
    "print(files)"
   ]
  },
  {
   "cell_type": "code",
   "execution_count": 9,
   "metadata": {},
   "outputs": [
    {
     "data": {
      "text/plain": [
       "[364, 365, 366]"
      ]
     },
     "execution_count": 9,
     "metadata": {},
     "output_type": "execute_result"
    }
   ],
   "source": [
    "year = 2024\n",
    "days = [day+1 for day in range(366 if year % 4 == 0 else 365)]\n",
    "days[-3:]"
   ]
  },
  {
   "cell_type": "code",
   "execution_count": null,
   "metadata": {},
   "outputs": [
    {
     "name": "stdout",
     "output_type": "stream",
     "text": [
      "['T', 'O', 'M', 'C', 'A', 'T']\n"
     ]
    }
   ],
   "source": [
    "# Extract uppercase letters from a string\n",
    "name = \"Tolousse Online Model for Chemical and Atmospheric Transport\"\n",
    "acronym = [char for char in name if char.isupper()]\n",
    "print(acronym)"
   ]
  },
  {
   "cell_type": "markdown",
   "metadata": {},
   "source": [
    "### enumerate"
   ]
  },
  {
   "cell_type": "code",
   "execution_count": 13,
   "metadata": {},
   "outputs": [
    {
     "name": "stdout",
     "output_type": "stream",
     "text": [
      "Year 0: 2013\n",
      "Year 1: 2014\n",
      "Year 2: 2015\n",
      "Year 3: 2016\n",
      "Year 4: 2017\n",
      "Year 5: 2018\n",
      "Year 6: 2019\n",
      "Year 7: 2020\n",
      "Year 8: 2021\n",
      "Year 9: 2022\n",
      "Year 10: 2023\n"
     ]
    }
   ],
   "source": [
    "years = [year for year in range(2013, 2024)]\n",
    "for year_index, year in enumerate(years):\n",
    "    print(f\"Year {year_index}: {year}\")"
   ]
  },
  {
   "cell_type": "markdown",
   "metadata": {},
   "source": [
    "### Matrix algebra"
   ]
  },
  {
   "cell_type": "code",
   "execution_count": 26,
   "metadata": {},
   "outputs": [
    {
     "name": "stdout",
     "output_type": "stream",
     "text": [
      "B=array([[ 1,  4,  9],\n",
      "       [16, 25, 36],\n",
      "       [49, 64, 81]])\n",
      "A.T=array([[1, 4, 7],\n",
      "       [2, 5, 8],\n",
      "       [3, 6, 9]])\n",
      "C=array([[ 180,  246,  324],\n",
      "       [ 378,  525,  702],\n",
      "       [ 576,  804, 1080]])\n",
      "D=array([[ 180,  246,  324],\n",
      "       [ 378,  525,  702],\n",
      "       [ 576,  804, 1080]])\n",
      "E=array([[[1, 2, 3],\n",
      "        [4, 5, 6],\n",
      "        [7, 8, 9]],\n",
      "\n",
      "       [[1, 2, 3],\n",
      "        [4, 5, 6],\n",
      "        [7, 8, 9]]])\n",
      "E.shape=(2, 3, 3)\n"
     ]
    }
   ],
   "source": [
    "import numpy as np\n",
    "A = np.array([[1, 2, 3],\n",
    "              [4, 5, 6],\n",
    "              [7, 8, 9]])\n",
    "\n",
    "# Overload operators\n",
    "B = A**2\n",
    "print(f\"{B=}\")\n",
    "\n",
    "# Transpose\n",
    "print(f\"{A.T=}\")\n",
    "\n",
    "# Matrix multiplication\n",
    "C = np.matmul(A, B) #long\n",
    "print(f\"{C=}\")\n",
    "D = A @ B #short\n",
    "print(f\"{D=}\")\n",
    "\n",
    "# Extend to 3D\n",
    "E = np.tile(A, (2, 1, 1)) #repeat A 2x2 times\n",
    "print(f\"{E=}\")\n",
    "print(f\"{E.shape=}\")"
   ]
  },
  {
   "cell_type": "markdown",
   "metadata": {},
   "source": [
    "### Other Random Stuff"
   ]
  },
  {
   "cell_type": "code",
   "execution_count": 10,
   "metadata": {},
   "outputs": [],
   "source": [
    "#BUG\n",
    "#FIXME\n",
    "#TODO\n",
    "#NOTE"
   ]
  },
  {
   "cell_type": "code",
   "execution_count": null,
   "metadata": {},
   "outputs": [],
   "source": [
    "big_number = 1_000_000_000"
   ]
  },
  {
   "cell_type": "code",
   "execution_count": 12,
   "metadata": {},
   "outputs": [
    {
     "name": "stdout",
     "output_type": "stream",
     "text": [
      "59.2 μs ± 4.2 μs per loop (mean ± std. dev. of 7 runs, 10,000 loops each)\n"
     ]
    }
   ],
   "source": [
    "%timeit squared_list = [i**2 for i in range(1_000)]"
   ]
  }
 ],
 "metadata": {
  "kernelspec": {
   "display_name": "wetland",
   "language": "python",
   "name": "python3"
  },
  "language_info": {
   "codemirror_mode": {
    "name": "ipython",
    "version": 3
   },
   "file_extension": ".py",
   "mimetype": "text/x-python",
   "name": "python",
   "nbconvert_exporter": "python",
   "pygments_lexer": "ipython3",
   "version": "3.13.1"
  }
 },
 "nbformat": 4,
 "nbformat_minor": 2
}
