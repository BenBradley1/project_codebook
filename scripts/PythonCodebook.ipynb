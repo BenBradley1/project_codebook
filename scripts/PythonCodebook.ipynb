{
 "cells": [
  {
   "cell_type": "markdown",
   "metadata": {},
   "source": [
    "# Guide to Python\n",
    "by Ben Bradley, 29/03/2025"
   ]
  },
  {
   "cell_type": "markdown",
   "metadata": {},
   "source": [
    "## 🏁 Introduction"
   ]
  },
  {
   "cell_type": "markdown",
   "metadata": {},
   "source": [
    "_This guide was created for the TOMCAT research group away day 2025. It is intended as a guide to modern programming for researchers and students within the School of Earth and Environment, primarily using Python and VS Code._\n",
    "\n",
    "Throughout, I draw upon the expertise shared in the following sources:\n",
    "- [The BAG Wiki](https://bjsilver.github.io/bag_wiki/), particularly the [Guide to VS Code](https://bjsilver.github.io/bag_wiki/docs/remote_access/vscode.html)\n",
    "- [The Good Research Code Handbook](https://goodresearch.dev/index.html)"
   ]
  },
  {
   "cell_type": "markdown",
   "metadata": {},
   "source": [
    "### Contents\n",
    "- ❓ What is VS Code and Python?\n",
    "- 🏗️ How do I set this up?\n",
    "- 🧠 Thinking \"pythonically\"\n",
    "- 💡 Tips and tricks"
   ]
  },
  {
   "cell_type": "markdown",
   "metadata": {},
   "source": [
    "## ❓ VS Code and Python"
   ]
  },
  {
   "cell_type": "markdown",
   "metadata": {},
   "source": [
    "### Python"
   ]
  },
  {
   "cell_type": "markdown",
   "metadata": {},
   "source": [
    "<figure>\n",
    "    <img src=\"./../results/python_antigravity.png\" width=\"500\" alt=\"python import antigravity comic by xkcd\">\n",
    "    <figcaption>The benefits of Python. From <a href=\"https://xkcd.com/353\" target=\"_blank\">xkcd.com</a> by Randall Munroe </figcaption>\n",
    "</figure>"
   ]
  },
  {
   "cell_type": "markdown",
   "metadata": {},
   "source": [
    "Python is one of the most successful programming languages ever, and for a reason! It values *readability* above all else, making it very user-friendly. It is open-source and primarily relies on importing libraries others have created to solve problems efficiently. This means you can lean on the work of others, who have likely solved the problem far more efficiently and cleanly than you could!\n",
    "\n",
    "Many people start using Python via the Python-provided Integrated Development Environment (IDE) or directly through the terminal. These are excellent places to get to grips with Python when first learning the language, as they allow you to focus on the basic coding you'll encounter in tutorials. Complications arrise when you want to do more than the basics though."
   ]
  },
  {
   "cell_type": "markdown",
   "metadata": {},
   "source": [
    "<figure>\n",
    "    <img src=\"./../results/Python_IDE.png\" width=\"500\" alt=\"Python IDE\">\n",
    "    <figcaption>Bog standard Python IDE, perfect as a learning sandbox but not much else</figcaption>\n",
    "</figure>"
   ]
  },
  {
   "cell_type": "markdown",
   "metadata": {},
   "source": [
    "### Environment Managers"
   ]
  },
  {
   "cell_type": "markdown",
   "metadata": {},
   "source": [
    "Python relies on libraries for most insteresting things anyone might actually want to do.\n",
    "\n",
    "- discover a cool thing you want to try out in Python\n",
    "- find you need a specific library\n",
    "- `import library` doesn't work!\n",
    "- google the error message\n",
    "- find that you need to install the library using a command called `pip`\n",
    "- your computer doesn't recognise the command `\"pip\"`\n",
    "- other people say to use `conda install` but this doesn't work either\n",
    "- some random guy from StackOverflow says everything will work if you use `pip3`\n",
    "- decide to do your cool thing in IDL instead"
   ]
  },
  {
   "cell_type": "markdown",
   "metadata": {},
   "source": [
    "You need a **package manager**! Setting this up means you can easily and dependably install any libraries you may need.\n",
    "\n",
    "Once you start installing lots of libraries, you'll eventually find that some conflict with others. If you get unlucky, you'll install a library and find that your code no longer runs! To avoid this, you need a **virtual environent manager**: something that resolves package dependencies and installs libraries in virtual environments that can easily be deleted and refreshed if something goes wrong.\n",
    "\n",
    "Some popular examples of joint package and virtual environment managers are _Anaconda_, _Miniconda_, and _Miniforge_. Without one of these, your python environment can become a messy hellscape :("
   ]
  },
  {
   "cell_type": "markdown",
   "metadata": {},
   "source": [
    "<figure>\n",
    "    <img src=\"./../results/python_environment.png\" width=\"500\" alt=\"python environments comic by xkcd\">\n",
    "    <figcaption>Python environments can be a confusing mess. From <a href=\"https://xkcd.com/1987\" target=\"_blank\">xkcd.com</a> by Randall Munroe </figcaption>\n",
    "</figure>"
   ]
  },
  {
   "cell_type": "markdown",
   "metadata": {},
   "source": [
    "### VS Code"
   ]
  },
  {
   "cell_type": "markdown",
   "metadata": {},
   "source": [
    "But if you're doing lots of coding, you don't just want your code to *run*. Is it clear, efficient, well-documented, backed-up, shareable? This is where more complete IDEs like VS Code come in!\n",
    "\n",
    "Visual Studio Code (VS Code) offers many attractive features, such as:\n",
    "- Multi-language support\n",
    "- variable auto-completion (no more short but unintelligable variable names)\n",
    "- Robust terminal interfaces **AND** intuitive feature-rich graphical interfaces\n",
    "- Seamless version control with Git and GitHub\n",
    "- Jupyter Notebooks!\n",
    "- Easily view netcdfs, tables, plots, file structures\n",
    "- auto-generated documentation, syntax highlighting, AI coding suggestions, and more!\n",
    "\n",
    "For more information visit the [BAG wiki guide to VS Code](https://bjsilver.github.io/bag_wiki/docs/remote_access/vscode.html)"
   ]
  },
  {
   "cell_type": "markdown",
   "metadata": {},
   "source": [
    "<img src=\"./../results/VSCode_window.png\" width=\"1000\">"
   ]
  },
  {
   "cell_type": "markdown",
   "metadata": {},
   "source": [
    "<img src=\"./../results/VSCode_displays.png\" width=\"1000\">"
   ]
  },
  {
   "cell_type": "markdown",
   "metadata": {},
   "source": [
    "## 🏗️ Setting Up"
   ]
  },
  {
   "cell_type": "markdown",
   "metadata": {},
   "source": [
    "### 1) University VPN"
   ]
  },
  {
   "cell_type": "markdown",
   "metadata": {},
   "source": [
    "<ol type=\"a\">\n",
    "  <li>At the time of writing there are two types of university VPN: PulseSecure and Ivanti Secure Access. One of these is needed to connect to university systems remotely.</li>\n",
    "\n",
    "  <ol type=\"i\">\n",
    "    <li>Already installed</li>\n",
    "      <p>If you have a university computer, the VPN may be pre-installed. For windows, check by going to the start menu and typing “Pulse Secure” or \"Ivanti Secure Access\".</p>\n",
    "    <li>Uni laptop but not pre-installed</li>\n",
    "      <p>If PulseSecure isn’t already available, it can be installed via Company Portal. Search the start menu for “Company Portal”. PulseSecure should be listed under the 'Apps' section.</p>\n",
    "    <li>Personal computer</li>\n",
    "      <p>Go to the <a href=\"https://it.leeds.ac.uk/it?id=kb_article_view&table=kb_knowledge&sys_kb_id=1682f199fbd426d08d23ff40aeefdc14&searchTerm=vpn&spa=1\" target=\"_blank\">University of Leeds VPN guide</a>. Under attachments to the right of the screen there is a list of VPN versions you can download. Select the appropriate download for your operating system and follow the setup wizard instructions.</p><img src=\"./../results/PulseSecure_download.png\" width=\"500\">\n",
    "  </ol>\n",
    "\n",
    "  <li>Once you have the VPN installed, follow the instructions on the <a href=\"https://it.leeds.ac.uk/it?id=kb_article_view&table=kb_knowledge&sys_kb_id=1682f199fbd426d08d23ff40aeefdc14&searchTerm=vpn&spa=1\" target=\"_blank\">VPN guide</a>, which detail how to connect.</li>\n",
    "</ol>\n",
    "\n",
    "*(n.b. an alternative method to this is to use the rash jump server: I have found this way requires more passwords and a duo sign in, but university IT plans to switch to this method at some point. A guide for using rash can be found here: [BAG guide to rash](https://bjsilver.github.io/bag_wiki/docs/remote_access/SSH_configs.html))*"
   ]
  },
  {
   "cell_type": "markdown",
   "metadata": {},
   "source": [
    "### 2) Installing VS Code"
   ]
  },
  {
   "cell_type": "markdown",
   "metadata": {},
   "source": [
    "<ol type=\"a\">\n",
    "  <li>Install VS Code</li>\n",
    "    <p>Download and install <a href=\"https://code.visualstudio.com/\" target=\"_blank\">VS Code</a>. If you have a university laptop, it may be easier to install via <a href=\"https://it.leeds.ac.uk/it?id=kb_article&sysparm_article=KB0014827\" target=\"_blank\">AppsAnywhere</a>, though I haven't tested this.</p>\n",
    "  <li>Extensions</li>\n",
    "    <p>Open VS Code and click the extensions tab on the left side of the screen. Search for and install the <em>Python</em>, <em>Jupyter</em>, and <em>Remote - SSH</em> extensions. These are needed to use Jupyter notebooks and access remote machines. </p><img src=\"./../results/VSCode_extensions.png\" width=\"500\">\n",
    "</ol>"
   ]
  },
  {
   "cell_type": "markdown",
   "metadata": {},
   "source": [
    "### 3) config file"
   ]
  },
  {
   "cell_type": "markdown",
   "metadata": {},
   "source": [
    "### 4) ssh into remote machine"
   ]
  },
  {
   "cell_type": "markdown",
   "metadata": {},
   "source": []
  }
 ],
 "metadata": {
  "kernelspec": {
   "display_name": "Python 3",
   "language": "python",
   "name": "python3"
  },
  "language_info": {
   "name": "python",
   "version": "3.12.6"
  }
 },
 "nbformat": 4,
 "nbformat_minor": 2
}
